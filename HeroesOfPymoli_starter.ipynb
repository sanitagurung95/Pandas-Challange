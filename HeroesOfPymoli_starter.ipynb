{
 "cells": [
  {
   "cell_type": "markdown",
   "metadata": {},
   "source": [
    "### Note\n",
    "* Instructions have been included for each segment. You do not have to follow them exactly, but they are included to help you think through the steps."
   ]
  },
  {
   "cell_type": "code",
   "execution_count": 1,
   "metadata": {},
   "outputs": [
    {
     "data": {
      "text/html": [
       "<div>\n",
       "<style scoped>\n",
       "    .dataframe tbody tr th:only-of-type {\n",
       "        vertical-align: middle;\n",
       "    }\n",
       "\n",
       "    .dataframe tbody tr th {\n",
       "        vertical-align: top;\n",
       "    }\n",
       "\n",
       "    .dataframe thead th {\n",
       "        text-align: right;\n",
       "    }\n",
       "</style>\n",
       "<table border=\"1\" class=\"dataframe\">\n",
       "  <thead>\n",
       "    <tr style=\"text-align: right;\">\n",
       "      <th></th>\n",
       "      <th>Purchase ID</th>\n",
       "      <th>SN</th>\n",
       "      <th>Age</th>\n",
       "      <th>Gender</th>\n",
       "      <th>Item ID</th>\n",
       "      <th>Item Name</th>\n",
       "      <th>Price</th>\n",
       "    </tr>\n",
       "  </thead>\n",
       "  <tbody>\n",
       "    <tr>\n",
       "      <th>0</th>\n",
       "      <td>0</td>\n",
       "      <td>Lisim78</td>\n",
       "      <td>20</td>\n",
       "      <td>Male</td>\n",
       "      <td>108</td>\n",
       "      <td>Extraction, Quickblade Of Trembling Hands</td>\n",
       "      <td>3.53</td>\n",
       "    </tr>\n",
       "    <tr>\n",
       "      <th>1</th>\n",
       "      <td>1</td>\n",
       "      <td>Lisovynya38</td>\n",
       "      <td>40</td>\n",
       "      <td>Male</td>\n",
       "      <td>143</td>\n",
       "      <td>Frenzied Scimitar</td>\n",
       "      <td>1.56</td>\n",
       "    </tr>\n",
       "    <tr>\n",
       "      <th>2</th>\n",
       "      <td>2</td>\n",
       "      <td>Ithergue48</td>\n",
       "      <td>24</td>\n",
       "      <td>Male</td>\n",
       "      <td>92</td>\n",
       "      <td>Final Critic</td>\n",
       "      <td>4.88</td>\n",
       "    </tr>\n",
       "    <tr>\n",
       "      <th>3</th>\n",
       "      <td>3</td>\n",
       "      <td>Chamassasya86</td>\n",
       "      <td>24</td>\n",
       "      <td>Male</td>\n",
       "      <td>100</td>\n",
       "      <td>Blindscythe</td>\n",
       "      <td>3.27</td>\n",
       "    </tr>\n",
       "    <tr>\n",
       "      <th>4</th>\n",
       "      <td>4</td>\n",
       "      <td>Iskosia90</td>\n",
       "      <td>23</td>\n",
       "      <td>Male</td>\n",
       "      <td>131</td>\n",
       "      <td>Fury</td>\n",
       "      <td>1.44</td>\n",
       "    </tr>\n",
       "  </tbody>\n",
       "</table>\n",
       "</div>"
      ],
      "text/plain": [
       "   Purchase ID             SN  Age Gender  Item ID  \\\n",
       "0            0        Lisim78   20   Male      108   \n",
       "1            1    Lisovynya38   40   Male      143   \n",
       "2            2     Ithergue48   24   Male       92   \n",
       "3            3  Chamassasya86   24   Male      100   \n",
       "4            4      Iskosia90   23   Male      131   \n",
       "\n",
       "                                   Item Name  Price  \n",
       "0  Extraction, Quickblade Of Trembling Hands   3.53  \n",
       "1                          Frenzied Scimitar   1.56  \n",
       "2                               Final Critic   4.88  \n",
       "3                                Blindscythe   3.27  \n",
       "4                                       Fury   1.44  "
      ]
     },
     "execution_count": 1,
     "metadata": {},
     "output_type": "execute_result"
    }
   ],
   "source": [
    "# Dependencies and Setup\n",
    "import pandas as pd\n",
    "import numpy as np\n",
    "\n",
    "# File to Load (Remember to Change These)\n",
    "file_to_load = \"Resources/purchase_data.csv\"\n",
    "\n",
    "# Read Purchasing File and store into Pandas data frame\n",
    "purchase_data_df = pd.read_csv(file_to_load)\n",
    "purchase_data_df.head()\n"
   ]
  },
  {
   "cell_type": "markdown",
   "metadata": {},
   "source": [
    "## Player Count"
   ]
  },
  {
   "cell_type": "markdown",
   "metadata": {},
   "source": [
    "* Display the total number of players\n"
   ]
  },
  {
   "cell_type": "code",
   "execution_count": 2,
   "metadata": {},
   "outputs": [
    {
     "name": "stdout",
     "output_type": "stream",
     "text": [
      "576\n"
     ]
    }
   ],
   "source": [
    "total_players = len(purchase_data_df[\"SN\"].unique())\n",
    "print(total_players)"
   ]
  },
  {
   "cell_type": "markdown",
   "metadata": {},
   "source": [
    "## Purchasing Analysis (Total)"
   ]
  },
  {
   "cell_type": "markdown",
   "metadata": {},
   "source": [
    "* Run basic calculations to obtain number of unique items, average price, etc.\n",
    "\n",
    "\n",
    "* Create a summary data frame to hold the results\n",
    "\n",
    "\n",
    "* Optional: give the displayed data cleaner formatting\n",
    "\n",
    "\n",
    "* Display the summary data frame\n"
   ]
  },
  {
   "cell_type": "code",
   "execution_count": 3,
   "metadata": {
    "scrolled": true
   },
   "outputs": [
    {
     "name": "stdout",
     "output_type": "stream",
     "text": [
      "183\n"
     ]
    }
   ],
   "source": [
    "# Calculations for unique items\n",
    "unique_items_number = (purchase_data_df[\"Item ID\"].nunique())\n",
    "print(unique_items_number)\n"
   ]
  },
  {
   "cell_type": "code",
   "execution_count": 4,
   "metadata": {},
   "outputs": [
    {
     "name": "stdout",
     "output_type": "stream",
     "text": [
      "3.050987179487176\n",
      "780\n",
      "2379.77\n"
     ]
    }
   ],
   "source": [
    "# Calculate for average price\n",
    "average_price = (purchase_data_df['Price'].mean())\n",
    "print(average_price)\n",
    "\n",
    "# Purchase count\n",
    "total_purchase = (purchase_data_df['SN'].count())\n",
    "print(total_purchase)\n",
    "\n",
    "# Total revenue\n",
    "total_revenue = (purchase_data_df['Price'].sum())\n",
    "print(total_revenue)\n"
   ]
  },
  {
   "cell_type": "code",
   "execution_count": 5,
   "metadata": {},
   "outputs": [
    {
     "data": {
      "text/html": [
       "<div>\n",
       "<style scoped>\n",
       "    .dataframe tbody tr th:only-of-type {\n",
       "        vertical-align: middle;\n",
       "    }\n",
       "\n",
       "    .dataframe tbody tr th {\n",
       "        vertical-align: top;\n",
       "    }\n",
       "\n",
       "    .dataframe thead th {\n",
       "        text-align: right;\n",
       "    }\n",
       "</style>\n",
       "<table border=\"1\" class=\"dataframe\">\n",
       "  <thead>\n",
       "    <tr style=\"text-align: right;\">\n",
       "      <th></th>\n",
       "      <th>Unique Items Number</th>\n",
       "      <th>Average Price</th>\n",
       "      <th>Total Purchase</th>\n",
       "      <th>Total Revenue</th>\n",
       "    </tr>\n",
       "  </thead>\n",
       "  <tbody>\n",
       "    <tr>\n",
       "      <th>0</th>\n",
       "      <td>179</td>\n",
       "      <td>3.050987</td>\n",
       "      <td>780</td>\n",
       "      <td>2379.77</td>\n",
       "    </tr>\n",
       "  </tbody>\n",
       "</table>\n",
       "</div>"
      ],
      "text/plain": [
       "   Unique Items Number  Average Price  Total Purchase  Total Revenue\n",
       "0                  179       3.050987             780        2379.77"
      ]
     },
     "execution_count": 5,
     "metadata": {},
     "output_type": "execute_result"
    }
   ],
   "source": [
    "# Display Results\n",
    "purchase_analysis_df = pd.DataFrame({\n",
    "    'Unique Items Number': [purchase_data_df['Item Name'].nunique()],\n",
    "    'Average Price': [purchase_data_df['Price'].mean()],\n",
    "    'Total Purchase': [purchase_data_df['SN'].count()],\n",
    "    'Total Revenue': [purchase_data_df['Price'].sum()]\n",
    "})\n",
    "\n",
    "purchase_analysis_df"
   ]
  },
  {
   "cell_type": "markdown",
   "metadata": {},
   "source": [
    "## Gender Demographics"
   ]
  },
  {
   "cell_type": "markdown",
   "metadata": {},
   "source": [
    "* Percentage and Count of Male Players\n",
    "\n",
    "\n",
    "* Percentage and Count of Female Players\n",
    "\n",
    "\n",
    "* Percentage and Count of Other / Non-Disclosed\n",
    "\n",
    "\n"
   ]
  },
  {
   "cell_type": "code",
   "execution_count": 6,
   "metadata": {},
   "outputs": [
    {
     "data": {
      "text/html": [
       "<div>\n",
       "<style scoped>\n",
       "    .dataframe tbody tr th:only-of-type {\n",
       "        vertical-align: middle;\n",
       "    }\n",
       "\n",
       "    .dataframe tbody tr th {\n",
       "        vertical-align: top;\n",
       "    }\n",
       "\n",
       "    .dataframe thead th {\n",
       "        text-align: right;\n",
       "    }\n",
       "</style>\n",
       "<table border=\"1\" class=\"dataframe\">\n",
       "  <thead>\n",
       "    <tr style=\"text-align: right;\">\n",
       "      <th></th>\n",
       "      <th>Total Count</th>\n",
       "      <th>Percentage</th>\n",
       "    </tr>\n",
       "    <tr>\n",
       "      <th>Gender</th>\n",
       "      <th></th>\n",
       "      <th></th>\n",
       "    </tr>\n",
       "  </thead>\n",
       "  <tbody>\n",
       "    <tr>\n",
       "      <th>Female</th>\n",
       "      <td>81</td>\n",
       "      <td>14.06%</td>\n",
       "    </tr>\n",
       "    <tr>\n",
       "      <th>Male</th>\n",
       "      <td>484</td>\n",
       "      <td>84.03%</td>\n",
       "    </tr>\n",
       "    <tr>\n",
       "      <th>Other / Non-Disclosed</th>\n",
       "      <td>11</td>\n",
       "      <td>1.91%</td>\n",
       "    </tr>\n",
       "  </tbody>\n",
       "</table>\n",
       "</div>"
      ],
      "text/plain": [
       "                       Total Count Percentage\n",
       "Gender                                       \n",
       "Female                          81     14.06%\n",
       "Male                           484     84.03%\n",
       "Other / Non-Disclosed           11      1.91%"
      ]
     },
     "execution_count": 6,
     "metadata": {},
     "output_type": "execute_result"
    }
   ],
   "source": [
    "#Percentage and Count of Male Players\n",
    "groupedby = purchase_data_df.groupby(['Gender'])\n",
    "gender_counts = groupedby['SN'].nunique()\n",
    "sum_gender_counts = gender_counts.sum()\n",
    "\n",
    "male_count = gender_counts['Male']\n",
    "male_percent = (male_count/sum_gender_counts) * 100\n",
    "\n",
    "female_count = gender_counts['Female']\n",
    "female_percent = (female_count/sum_gender_counts) * 100\n",
    "\n",
    "other_count = gender_counts['Other / Non-Disclosed']\n",
    "other_percent = (other_count/sum_gender_counts) * 100\n",
    "\n",
    "gender_df = pd.DataFrame(gender_counts)\n",
    "gender_df['Percents'] = [female_percent, male_percent, other_percent]\n",
    "gender_df[\"Percents\"] = gender_df[\"Percents\"].map(\"{:.2f}%\".format)\n",
    "gender_df.columns = [\"Total Count\", \"Percentage\"]\n",
    "\n",
    "gender_df"
   ]
  },
  {
   "cell_type": "markdown",
   "metadata": {},
   "source": [
    "\n",
    "## Purchasing Analysis (Gender)"
   ]
  },
  {
   "cell_type": "markdown",
   "metadata": {},
   "source": [
    "* Run basic calculations to obtain purchase count, avg. purchase price, avg. purchase total per person etc. by gender\n",
    "\n",
    "\n",
    "\n",
    "\n",
    "* Create a summary data frame to hold the results\n",
    "\n",
    "\n",
    "* Optional: give the displayed data cleaner formatting\n",
    "\n",
    "\n",
    "* Display the summary data frame"
   ]
  },
  {
   "cell_type": "code",
   "execution_count": 7,
   "metadata": {},
   "outputs": [
    {
     "data": {
      "text/html": [
       "<div>\n",
       "<style scoped>\n",
       "    .dataframe tbody tr th:only-of-type {\n",
       "        vertical-align: middle;\n",
       "    }\n",
       "\n",
       "    .dataframe tbody tr th {\n",
       "        vertical-align: top;\n",
       "    }\n",
       "\n",
       "    .dataframe thead th {\n",
       "        text-align: right;\n",
       "    }\n",
       "</style>\n",
       "<table border=\"1\" class=\"dataframe\">\n",
       "  <thead>\n",
       "    <tr style=\"text-align: right;\">\n",
       "      <th></th>\n",
       "      <th>Purchase Count</th>\n",
       "      <th>Average Purchase</th>\n",
       "      <th>Total Purchase Value</th>\n",
       "      <th>Normalized Totals</th>\n",
       "    </tr>\n",
       "    <tr>\n",
       "      <th>Gender</th>\n",
       "      <th></th>\n",
       "      <th></th>\n",
       "      <th></th>\n",
       "      <th></th>\n",
       "    </tr>\n",
       "  </thead>\n",
       "  <tbody>\n",
       "    <tr>\n",
       "      <th>Female</th>\n",
       "      <td>113</td>\n",
       "      <td>$3.20</td>\n",
       "      <td>$361.94</td>\n",
       "      <td>$4.47</td>\n",
       "    </tr>\n",
       "    <tr>\n",
       "      <th>Male</th>\n",
       "      <td>652</td>\n",
       "      <td>$3.02</td>\n",
       "      <td>$1,967.64</td>\n",
       "      <td>$4.07</td>\n",
       "    </tr>\n",
       "    <tr>\n",
       "      <th>Other / Non-Disclosed</th>\n",
       "      <td>15</td>\n",
       "      <td>$3.35</td>\n",
       "      <td>$50.19</td>\n",
       "      <td>$4.56</td>\n",
       "    </tr>\n",
       "  </tbody>\n",
       "</table>\n",
       "</div>"
      ],
      "text/plain": [
       "                       Purchase Count Average Purchase Total Purchase Value  \\\n",
       "Gender                                                                        \n",
       "Female                            113            $3.20              $361.94   \n",
       "Male                              652            $3.02            $1,967.64   \n",
       "Other / Non-Disclosed              15            $3.35               $50.19   \n",
       "\n",
       "                      Normalized Totals  \n",
       "Gender                                   \n",
       "Female                            $4.47  \n",
       "Male                              $4.07  \n",
       "Other / Non-Disclosed             $4.56  "
      ]
     },
     "execution_count": 7,
     "metadata": {},
     "output_type": "execute_result"
    }
   ],
   "source": [
    "#Purchasing Analysis (Gender)\n",
    "#The below each broken by gender\n",
    "#grouping by Gender\n",
    "grouped_gender_df = purchase_data_df.groupby (['Gender'])\n",
    "grouped_gender_df.count().head()\n",
    "\n",
    "#Purchase Count\n",
    "purchase_count = grouped_gender_df[\"SN\"].count()\n",
    "\n",
    "#Average Purchase \n",
    "average_purchase = grouped_gender_df[\"Price\"].mean()\n",
    "\n",
    "#Total Purchase Value\n",
    "total_purchase_price = grouped_gender_df[\"Price\"].sum()\n",
    "\n",
    "#Normalized Totals\n",
    "normalized_totals = total_purchase_price / gender_counts\n",
    "\n",
    "#Summary dataframe using both calculations\n",
    "purchasing_analysis_gender = pd.DataFrame({\"Purchase Count\":purchase_count,\n",
    "                                           \"Average Purchase\":average_purchase,\n",
    "                                           \"Total Purchase Value\":total_purchase_price,\n",
    "                                           \"Normalized Totals\":normalized_totals})\n",
    "\n",
    "purchasing_analysis_gender_summary = purchasing_analysis_gender[[\"Purchase Count\",\n",
    "                                                                 \"Average Purchase\",\n",
    "                                                                 \"Total Purchase Value\",\n",
    "                                                                 \"Normalized Totals\"]]\n",
    "\n",
    "# Use Map to format all the columns\n",
    "purchasing_analysis_gender_summary[\"Average Purchase\"] = purchasing_analysis_gender_summary[\"Average Purchase\"].map(\"${:,.2f}\".format)\n",
    "purchasing_analysis_gender_summary[\"Total Purchase Value\"] = purchasing_analysis_gender_summary[\"Total Purchase Value\"].map(\"${:,.2f}\".format)\n",
    "purchasing_analysis_gender_summary[\"Normalized Totals\"] = purchasing_analysis_gender_summary[\"Normalized Totals\"].map(\"${:,.2f}\".format)\n",
    "\n",
    "\n",
    "purchasing_analysis_gender_summary\n"
   ]
  },
  {
   "cell_type": "markdown",
   "metadata": {},
   "source": [
    "## Age Demographics"
   ]
  },
  {
   "cell_type": "markdown",
   "metadata": {},
   "source": [
    "* Establish bins for ages\n",
    "\n",
    "\n",
    "* Categorize the existing players using the age bins. Hint: use pd.cut()\n",
    "\n",
    "\n",
    "* Calculate the numbers and percentages by age group\n",
    "\n",
    "\n",
    "* Create a summary data frame to hold the results\n",
    "\n",
    "\n",
    "* Optional: round the percentage column to two decimal points\n",
    "\n",
    "\n",
    "* Display Age Demographics Table\n"
   ]
  },
  {
   "cell_type": "code",
   "execution_count": 8,
   "metadata": {},
   "outputs": [
    {
     "data": {
      "text/html": [
       "<div>\n",
       "<style scoped>\n",
       "    .dataframe tbody tr th:only-of-type {\n",
       "        vertical-align: middle;\n",
       "    }\n",
       "\n",
       "    .dataframe tbody tr th {\n",
       "        vertical-align: top;\n",
       "    }\n",
       "\n",
       "    .dataframe thead th {\n",
       "        text-align: right;\n",
       "    }\n",
       "</style>\n",
       "<table border=\"1\" class=\"dataframe\">\n",
       "  <thead>\n",
       "    <tr style=\"text-align: right;\">\n",
       "      <th></th>\n",
       "      <th>Total Counts</th>\n",
       "      <th>Percentage of Players</th>\n",
       "    </tr>\n",
       "  </thead>\n",
       "  <tbody>\n",
       "    <tr>\n",
       "      <th>&lt;10</th>\n",
       "      <td>17</td>\n",
       "      <td>2.95%</td>\n",
       "    </tr>\n",
       "    <tr>\n",
       "      <th>10-14</th>\n",
       "      <td>22</td>\n",
       "      <td>3.82%</td>\n",
       "    </tr>\n",
       "    <tr>\n",
       "      <th>15-19</th>\n",
       "      <td>107</td>\n",
       "      <td>18.58%</td>\n",
       "    </tr>\n",
       "    <tr>\n",
       "      <th>20-24</th>\n",
       "      <td>258</td>\n",
       "      <td>44.79%</td>\n",
       "    </tr>\n",
       "    <tr>\n",
       "      <th>25-29</th>\n",
       "      <td>77</td>\n",
       "      <td>13.37%</td>\n",
       "    </tr>\n",
       "    <tr>\n",
       "      <th>30-34</th>\n",
       "      <td>52</td>\n",
       "      <td>9.03%</td>\n",
       "    </tr>\n",
       "    <tr>\n",
       "      <th>35-39</th>\n",
       "      <td>31</td>\n",
       "      <td>5.38%</td>\n",
       "    </tr>\n",
       "    <tr>\n",
       "      <th>40+</th>\n",
       "      <td>12</td>\n",
       "      <td>2.08%</td>\n",
       "    </tr>\n",
       "  </tbody>\n",
       "</table>\n",
       "</div>"
      ],
      "text/plain": [
       "       Total Counts Percentage of Players\n",
       "<10              17                 2.95%\n",
       "10-14            22                 3.82%\n",
       "15-19           107                18.58%\n",
       "20-24           258                44.79%\n",
       "25-29            77                13.37%\n",
       "30-34            52                 9.03%\n",
       "35-39            31                 5.38%\n",
       "40+              12                 2.08%"
      ]
     },
     "execution_count": 8,
     "metadata": {},
     "output_type": "execute_result"
    }
   ],
   "source": [
    "# Establish bins for ages\n",
    "age_bins = [0, 9.90, 14.90, 19.90, 24.90, 29.90, 34.90, 39.90, 99999]\n",
    "age_ranges = [\"<10\", \"10-14\", \"15-19\", \"20-24\", \"25-29\", \"30-34\", \"35-39\", \"40+\"]\n",
    "\n",
    "purchase_data_df[\"Age Ranges\"] = pd.cut(purchase_data_df[\"Age\"], age_bins, labels=age_ranges)\n",
    "\n",
    "groupedby_ages = purchase_data_df.groupby('Age Ranges')\n",
    "age_counts = groupedby_ages['SN'].nunique()   \n",
    "total_counts = age_counts.sum()\n",
    "\n",
    "age_list = [{\"Total Counts\": age_counts[\"<10\"], \"Percentage of Players\": (age_counts[\"<10\"] * 100) / total_counts },\n",
    "            {\"Total Counts\": age_counts[\"10-14\"], \"Percentage of Players\": (age_counts[\"10-14\"] * 100) / total_counts},\n",
    "            {\"Total Counts\": age_counts[\"15-19\"], \"Percentage of Players\": (age_counts[\"15-19\"] * 100) / total_counts},\n",
    "            {\"Total Counts\": age_counts[\"20-24\"], \"Percentage of Players\": (age_counts[\"20-24\"] * 100) / total_counts},\n",
    "            {\"Total Counts\": age_counts[\"25-29\"], \"Percentage of Players\": (age_counts[\"25-29\"] * 100) / total_counts},\n",
    "            {\"Total Counts\": age_counts[\"30-34\"], \"Percentage of Players\": (age_counts[\"30-34\"] * 100) / total_counts},\n",
    "            {\"Total Counts\": age_counts[\"35-39\"], \"Percentage of Players\": (age_counts[\"35-39\"] * 100) / total_counts},\n",
    "            {\"Total Counts\": age_counts[\"40+\"], \"Percentage of Players\": (age_counts[\"40+\"] * 100) / total_counts}]\n",
    "\n",
    "age_demographic_df = pd.DataFrame(age_list)\n",
    "age_demographic_df.rename(index={0:'<10', 1:'10-14', 2:'15-19', 3:'20-24', 4:'25-29', 5:'30-34', 6:'35-39', 7:'40+'}, inplace=True)\n",
    "age_demographic_df[\"Percentage of Players\"] = age_demographic_df[\"Percentage of Players\"].map(\"{:.2f}%\".format)\n",
    "age_demographic_df = age_demographic_df[[\"Total Counts\", \"Percentage of Players\"]]\n",
    "\n",
    "age_demographic_df\n"
   ]
  },
  {
   "cell_type": "markdown",
   "metadata": {},
   "source": [
    "## Purchasing Analysis (Age)"
   ]
  },
  {
   "cell_type": "markdown",
   "metadata": {},
   "source": [
    "* Bin the purchase_data data frame by age\n",
    "\n",
    "\n",
    "* Run basic calculations to obtain purchase count, avg. purchase price, avg. purchase total per person etc. in the table below\n",
    "\n",
    "\n",
    "* Create a summary data frame to hold the results\n",
    "\n",
    "\n",
    "* Optional: give the displayed data cleaner formatting\n",
    "\n",
    "\n",
    "* Display the summary data frame"
   ]
  },
  {
   "cell_type": "code",
   "execution_count": 9,
   "metadata": {},
   "outputs": [
    {
     "data": {
      "text/html": [
       "<style  type=\"text/css\" >\n",
       "</style><table id=\"T_7ed49fee_535c_11ea_991c_6476ba91ff0c\" ><thead>    <tr>        <th class=\"blank level0\" ></th>        <th class=\"col_heading level0 col0\" >Purchase Count</th>        <th class=\"col_heading level0 col1\" >Average Purchase Price</th>        <th class=\"col_heading level0 col2\" >Total Purchase Value</th>        <th class=\"col_heading level0 col3\" >Avg Total Purchase per Person</th>    </tr>    <tr>        <th class=\"index_name level0\" >Age Ranges</th>        <th class=\"blank\" ></th>        <th class=\"blank\" ></th>        <th class=\"blank\" ></th>        <th class=\"blank\" ></th>    </tr></thead><tbody>\n",
       "                <tr>\n",
       "                        <th id=\"T_7ed49fee_535c_11ea_991c_6476ba91ff0clevel0_row0\" class=\"row_heading level0 row0\" ><10</th>\n",
       "                        <td id=\"T_7ed49fee_535c_11ea_991c_6476ba91ff0crow0_col0\" class=\"data row0 col0\" >23</td>\n",
       "                        <td id=\"T_7ed49fee_535c_11ea_991c_6476ba91ff0crow0_col1\" class=\"data row0 col1\" >$3.35</td>\n",
       "                        <td id=\"T_7ed49fee_535c_11ea_991c_6476ba91ff0crow0_col2\" class=\"data row0 col2\" >$77.13</td>\n",
       "                        <td id=\"T_7ed49fee_535c_11ea_991c_6476ba91ff0crow0_col3\" class=\"data row0 col3\" >$4.54</td>\n",
       "            </tr>\n",
       "            <tr>\n",
       "                        <th id=\"T_7ed49fee_535c_11ea_991c_6476ba91ff0clevel0_row1\" class=\"row_heading level0 row1\" >10-14</th>\n",
       "                        <td id=\"T_7ed49fee_535c_11ea_991c_6476ba91ff0crow1_col0\" class=\"data row1 col0\" >28</td>\n",
       "                        <td id=\"T_7ed49fee_535c_11ea_991c_6476ba91ff0crow1_col1\" class=\"data row1 col1\" >$2.96</td>\n",
       "                        <td id=\"T_7ed49fee_535c_11ea_991c_6476ba91ff0crow1_col2\" class=\"data row1 col2\" >$82.78</td>\n",
       "                        <td id=\"T_7ed49fee_535c_11ea_991c_6476ba91ff0crow1_col3\" class=\"data row1 col3\" >$3.76</td>\n",
       "            </tr>\n",
       "            <tr>\n",
       "                        <th id=\"T_7ed49fee_535c_11ea_991c_6476ba91ff0clevel0_row2\" class=\"row_heading level0 row2\" >15-19</th>\n",
       "                        <td id=\"T_7ed49fee_535c_11ea_991c_6476ba91ff0crow2_col0\" class=\"data row2 col0\" >136</td>\n",
       "                        <td id=\"T_7ed49fee_535c_11ea_991c_6476ba91ff0crow2_col1\" class=\"data row2 col1\" >$3.04</td>\n",
       "                        <td id=\"T_7ed49fee_535c_11ea_991c_6476ba91ff0crow2_col2\" class=\"data row2 col2\" >$412.89</td>\n",
       "                        <td id=\"T_7ed49fee_535c_11ea_991c_6476ba91ff0crow2_col3\" class=\"data row2 col3\" >$3.86</td>\n",
       "            </tr>\n",
       "            <tr>\n",
       "                        <th id=\"T_7ed49fee_535c_11ea_991c_6476ba91ff0clevel0_row3\" class=\"row_heading level0 row3\" >20-24</th>\n",
       "                        <td id=\"T_7ed49fee_535c_11ea_991c_6476ba91ff0crow3_col0\" class=\"data row3 col0\" >365</td>\n",
       "                        <td id=\"T_7ed49fee_535c_11ea_991c_6476ba91ff0crow3_col1\" class=\"data row3 col1\" >$3.05</td>\n",
       "                        <td id=\"T_7ed49fee_535c_11ea_991c_6476ba91ff0crow3_col2\" class=\"data row3 col2\" >$1,114.06</td>\n",
       "                        <td id=\"T_7ed49fee_535c_11ea_991c_6476ba91ff0crow3_col3\" class=\"data row3 col3\" >$4.32</td>\n",
       "            </tr>\n",
       "            <tr>\n",
       "                        <th id=\"T_7ed49fee_535c_11ea_991c_6476ba91ff0clevel0_row4\" class=\"row_heading level0 row4\" >25-29</th>\n",
       "                        <td id=\"T_7ed49fee_535c_11ea_991c_6476ba91ff0crow4_col0\" class=\"data row4 col0\" >101</td>\n",
       "                        <td id=\"T_7ed49fee_535c_11ea_991c_6476ba91ff0crow4_col1\" class=\"data row4 col1\" >$2.90</td>\n",
       "                        <td id=\"T_7ed49fee_535c_11ea_991c_6476ba91ff0crow4_col2\" class=\"data row4 col2\" >$293.00</td>\n",
       "                        <td id=\"T_7ed49fee_535c_11ea_991c_6476ba91ff0crow4_col3\" class=\"data row4 col3\" >$3.81</td>\n",
       "            </tr>\n",
       "            <tr>\n",
       "                        <th id=\"T_7ed49fee_535c_11ea_991c_6476ba91ff0clevel0_row5\" class=\"row_heading level0 row5\" >30-34</th>\n",
       "                        <td id=\"T_7ed49fee_535c_11ea_991c_6476ba91ff0crow5_col0\" class=\"data row5 col0\" >73</td>\n",
       "                        <td id=\"T_7ed49fee_535c_11ea_991c_6476ba91ff0crow5_col1\" class=\"data row5 col1\" >$2.93</td>\n",
       "                        <td id=\"T_7ed49fee_535c_11ea_991c_6476ba91ff0crow5_col2\" class=\"data row5 col2\" >$214.00</td>\n",
       "                        <td id=\"T_7ed49fee_535c_11ea_991c_6476ba91ff0crow5_col3\" class=\"data row5 col3\" >$4.12</td>\n",
       "            </tr>\n",
       "            <tr>\n",
       "                        <th id=\"T_7ed49fee_535c_11ea_991c_6476ba91ff0clevel0_row6\" class=\"row_heading level0 row6\" >35-39</th>\n",
       "                        <td id=\"T_7ed49fee_535c_11ea_991c_6476ba91ff0crow6_col0\" class=\"data row6 col0\" >41</td>\n",
       "                        <td id=\"T_7ed49fee_535c_11ea_991c_6476ba91ff0crow6_col1\" class=\"data row6 col1\" >$3.60</td>\n",
       "                        <td id=\"T_7ed49fee_535c_11ea_991c_6476ba91ff0crow6_col2\" class=\"data row6 col2\" >$147.67</td>\n",
       "                        <td id=\"T_7ed49fee_535c_11ea_991c_6476ba91ff0crow6_col3\" class=\"data row6 col3\" >$4.76</td>\n",
       "            </tr>\n",
       "            <tr>\n",
       "                        <th id=\"T_7ed49fee_535c_11ea_991c_6476ba91ff0clevel0_row7\" class=\"row_heading level0 row7\" >40+</th>\n",
       "                        <td id=\"T_7ed49fee_535c_11ea_991c_6476ba91ff0crow7_col0\" class=\"data row7 col0\" >13</td>\n",
       "                        <td id=\"T_7ed49fee_535c_11ea_991c_6476ba91ff0crow7_col1\" class=\"data row7 col1\" >$2.94</td>\n",
       "                        <td id=\"T_7ed49fee_535c_11ea_991c_6476ba91ff0crow7_col2\" class=\"data row7 col2\" >$38.24</td>\n",
       "                        <td id=\"T_7ed49fee_535c_11ea_991c_6476ba91ff0crow7_col3\" class=\"data row7 col3\" >$3.19</td>\n",
       "            </tr>\n",
       "    </tbody></table>"
      ],
      "text/plain": [
       "<pandas.io.formats.style.Styler at 0x122364f28>"
      ]
     },
     "execution_count": 9,
     "metadata": {},
     "output_type": "execute_result"
    }
   ],
   "source": [
    "#Purchasing Analysis(Age)\n",
    "# Bin the purchase_data data frame by age\n",
    "age_bins = [0, 9.90, 14.90, 19.90, 24.90, 29.90, 34.90, 39.90, 99999]\n",
    "age_ranges = [\"<10\", \"10-14\", \"15-19\", \"20-24\", \"25-29\", \"30-34\", \"35-39\", \"40+\"]\n",
    "purchase_count_age = groupedby_ages[\"Purchase ID\"].count()\n",
    "avg_purchase_price_age = groupedby_ages[\"Price\"].mean()\n",
    "total_purchase_value = groupedby_ages[\"Price\"].sum()\n",
    "avg_purchase_per_person_age = total_purchase_value/age_counts\n",
    "\n",
    "\n",
    "#basic calculations to obtain purchase count, avg. purchase price, avg. purchase total per person\n",
    "age_demographics = pd.DataFrame({\"Purchase Count\": purchase_count_age,\n",
    "                                 \"Average Purchase Price\": avg_purchase_price_age,\n",
    "                                 \"Total Purchase Value\":total_purchase_value,\n",
    "                                 \"Avg Total Purchase per Person\": avg_purchase_per_person_age})\n",
    "\n",
    "\n",
    "# Formatting\n",
    "age_demographics.style.format({\"Average Purchase Price\":\"${:,.2f}\",\n",
    "                               \"Total Purchase Value\":\"${:,.2f}\",\n",
    "                               \"Avg Total Purchase per Person\":\"${:,.2f}\"})\n"
   ]
  },
  {
   "cell_type": "markdown",
   "metadata": {},
   "source": [
    "## Top Spenders"
   ]
  },
  {
   "cell_type": "markdown",
   "metadata": {},
   "source": [
    "* Run basic calculations to obtain the results in the table below\n",
    "\n",
    "\n",
    "* Create a summary data frame to hold the results\n",
    "\n",
    "\n",
    "* Sort the total purchase value column in descending order\n",
    "\n",
    "\n",
    "* Optional: give the displayed data cleaner formatting\n",
    "\n",
    "\n",
    "* Display a preview of the summary data frame\n",
    "\n"
   ]
  },
  {
   "cell_type": "code",
   "execution_count": 10,
   "metadata": {},
   "outputs": [
    {
     "data": {
      "text/html": [
       "<style  type=\"text/css\" >\n",
       "</style><table id=\"T_7edc8470_535c_11ea_a451_6476ba91ff0c\" ><thead>    <tr>        <th class=\"blank level0\" ></th>        <th class=\"col_heading level0 col0\" >Purchase Count</th>        <th class=\"col_heading level0 col1\" >Average Purchase Price</th>        <th class=\"col_heading level0 col2\" >Total Purchase Value</th>    </tr>    <tr>        <th class=\"index_name level0\" >SN</th>        <th class=\"blank\" ></th>        <th class=\"blank\" ></th>        <th class=\"blank\" ></th>    </tr></thead><tbody>\n",
       "                <tr>\n",
       "                        <th id=\"T_7edc8470_535c_11ea_a451_6476ba91ff0clevel0_row0\" class=\"row_heading level0 row0\" >Lisosia93</th>\n",
       "                        <td id=\"T_7edc8470_535c_11ea_a451_6476ba91ff0crow0_col0\" class=\"data row0 col0\" >5</td>\n",
       "                        <td id=\"T_7edc8470_535c_11ea_a451_6476ba91ff0crow0_col1\" class=\"data row0 col1\" >$3.79</td>\n",
       "                        <td id=\"T_7edc8470_535c_11ea_a451_6476ba91ff0crow0_col2\" class=\"data row0 col2\" >$18.96</td>\n",
       "            </tr>\n",
       "            <tr>\n",
       "                        <th id=\"T_7edc8470_535c_11ea_a451_6476ba91ff0clevel0_row1\" class=\"row_heading level0 row1\" >Idastidru52</th>\n",
       "                        <td id=\"T_7edc8470_535c_11ea_a451_6476ba91ff0crow1_col0\" class=\"data row1 col0\" >4</td>\n",
       "                        <td id=\"T_7edc8470_535c_11ea_a451_6476ba91ff0crow1_col1\" class=\"data row1 col1\" >$3.86</td>\n",
       "                        <td id=\"T_7edc8470_535c_11ea_a451_6476ba91ff0crow1_col2\" class=\"data row1 col2\" >$15.45</td>\n",
       "            </tr>\n",
       "            <tr>\n",
       "                        <th id=\"T_7edc8470_535c_11ea_a451_6476ba91ff0clevel0_row2\" class=\"row_heading level0 row2\" >Chamjask73</th>\n",
       "                        <td id=\"T_7edc8470_535c_11ea_a451_6476ba91ff0crow2_col0\" class=\"data row2 col0\" >3</td>\n",
       "                        <td id=\"T_7edc8470_535c_11ea_a451_6476ba91ff0crow2_col1\" class=\"data row2 col1\" >$4.61</td>\n",
       "                        <td id=\"T_7edc8470_535c_11ea_a451_6476ba91ff0crow2_col2\" class=\"data row2 col2\" >$13.83</td>\n",
       "            </tr>\n",
       "            <tr>\n",
       "                        <th id=\"T_7edc8470_535c_11ea_a451_6476ba91ff0clevel0_row3\" class=\"row_heading level0 row3\" >Iral74</th>\n",
       "                        <td id=\"T_7edc8470_535c_11ea_a451_6476ba91ff0crow3_col0\" class=\"data row3 col0\" >4</td>\n",
       "                        <td id=\"T_7edc8470_535c_11ea_a451_6476ba91ff0crow3_col1\" class=\"data row3 col1\" >$3.40</td>\n",
       "                        <td id=\"T_7edc8470_535c_11ea_a451_6476ba91ff0crow3_col2\" class=\"data row3 col2\" >$13.62</td>\n",
       "            </tr>\n",
       "            <tr>\n",
       "                        <th id=\"T_7edc8470_535c_11ea_a451_6476ba91ff0clevel0_row4\" class=\"row_heading level0 row4\" >Iskadarya95</th>\n",
       "                        <td id=\"T_7edc8470_535c_11ea_a451_6476ba91ff0crow4_col0\" class=\"data row4 col0\" >3</td>\n",
       "                        <td id=\"T_7edc8470_535c_11ea_a451_6476ba91ff0crow4_col1\" class=\"data row4 col1\" >$4.37</td>\n",
       "                        <td id=\"T_7edc8470_535c_11ea_a451_6476ba91ff0crow4_col2\" class=\"data row4 col2\" >$13.10</td>\n",
       "            </tr>\n",
       "    </tbody></table>"
      ],
      "text/plain": [
       "<pandas.io.formats.style.Styler at 0x111615240>"
      ]
     },
     "execution_count": 10,
     "metadata": {},
     "output_type": "execute_result"
    }
   ],
   "source": [
    "#Top Spender\n",
    "grouped_SN_df = purchase_data_df.groupby (['SN'])\n",
    "\n",
    "#Purchase Count by name\n",
    "SN_purchase_count = grouped_SN_df[\"Purchase ID\"].count()\n",
    "\n",
    "#Total Purchase Value\n",
    "purchase_total_SN = grouped_SN_df[\"Price\"].sum()\n",
    "\n",
    "#Average Purchase Price\n",
    "SN_average_purchase = grouped_SN_df[\"Price\"].mean()\n",
    "\n",
    "#Create dataframe \n",
    "SN_table = pd.DataFrame({\"Purchase Count\": SN_purchase_count,\n",
    "                             \"Average Purchase Price\": SN_average_purchase,\n",
    "                             \"Total Purchase Value\":purchase_total_SN})\n",
    "\n",
    "# Sort in descending order \n",
    "formatted_SN = SN_table.sort_values([\"Total Purchase Value\"], ascending=False).head()\n",
    "\n",
    "# Formatting \n",
    "formatted_SN.style.format({\"Average Purchase Total\":\"${:,.2f}\",\n",
    "                                 \"Average Purchase Price\":\"${:,.2f}\", \n",
    "                                 \"Total Purchase Value\":\"${:,.2f}\"})"
   ]
  },
  {
   "cell_type": "markdown",
   "metadata": {},
   "source": [
    "## Most Popular Items"
   ]
  },
  {
   "cell_type": "markdown",
   "metadata": {},
   "source": [
    "* Retrieve the Item ID, Item Name, and Item Price columns\n",
    "\n",
    "\n",
    "* Group by Item ID and Item Name. Perform calculations to obtain purchase count, item price, and total purchase value\n",
    "\n",
    "\n",
    "* Create a summary data frame to hold the results\n",
    "\n",
    "\n",
    "* Sort the purchase count column in descending order\n",
    "\n",
    "\n",
    "* Optional: give the displayed data cleaner formatting\n",
    "\n",
    "\n",
    "* Display a preview of the summary data frame\n",
    "\n"
   ]
  },
  {
   "cell_type": "code",
   "execution_count": 11,
   "metadata": {},
   "outputs": [
    {
     "data": {
      "text/html": [
       "<style  type=\"text/css\" >\n",
       "</style><table id=\"T_7ee2a026_535c_11ea_9021_6476ba91ff0c\" ><thead>    <tr>        <th class=\"blank\" ></th>        <th class=\"blank level0\" ></th>        <th class=\"col_heading level0 col0\" >Purchase Count</th>        <th class=\"col_heading level0 col1\" >Item Price</th>        <th class=\"col_heading level0 col2\" >Total Purchase Value</th>    </tr>    <tr>        <th class=\"index_name level0\" >Item ID</th>        <th class=\"index_name level1\" >Item Name</th>        <th class=\"blank\" ></th>        <th class=\"blank\" ></th>        <th class=\"blank\" ></th>    </tr></thead><tbody>\n",
       "                <tr>\n",
       "                        <th id=\"T_7ee2a026_535c_11ea_9021_6476ba91ff0clevel0_row0\" class=\"row_heading level0 row0\" >178</th>\n",
       "                        <th id=\"T_7ee2a026_535c_11ea_9021_6476ba91ff0clevel1_row0\" class=\"row_heading level1 row0\" >Oathbreaker, Last Hope of the Breaking Storm</th>\n",
       "                        <td id=\"T_7ee2a026_535c_11ea_9021_6476ba91ff0crow0_col0\" class=\"data row0 col0\" >12</td>\n",
       "                        <td id=\"T_7ee2a026_535c_11ea_9021_6476ba91ff0crow0_col1\" class=\"data row0 col1\" >$4.23</td>\n",
       "                        <td id=\"T_7ee2a026_535c_11ea_9021_6476ba91ff0crow0_col2\" class=\"data row0 col2\" >$50.76</td>\n",
       "            </tr>\n",
       "            <tr>\n",
       "                        <th id=\"T_7ee2a026_535c_11ea_9021_6476ba91ff0clevel0_row1\" class=\"row_heading level0 row1\" >145</th>\n",
       "                        <th id=\"T_7ee2a026_535c_11ea_9021_6476ba91ff0clevel1_row1\" class=\"row_heading level1 row1\" >Fiery Glass Crusader</th>\n",
       "                        <td id=\"T_7ee2a026_535c_11ea_9021_6476ba91ff0crow1_col0\" class=\"data row1 col0\" >9</td>\n",
       "                        <td id=\"T_7ee2a026_535c_11ea_9021_6476ba91ff0crow1_col1\" class=\"data row1 col1\" >$4.58</td>\n",
       "                        <td id=\"T_7ee2a026_535c_11ea_9021_6476ba91ff0crow1_col2\" class=\"data row1 col2\" >$41.22</td>\n",
       "            </tr>\n",
       "            <tr>\n",
       "                        <th id=\"T_7ee2a026_535c_11ea_9021_6476ba91ff0clevel0_row2\" class=\"row_heading level0 row2\" >108</th>\n",
       "                        <th id=\"T_7ee2a026_535c_11ea_9021_6476ba91ff0clevel1_row2\" class=\"row_heading level1 row2\" >Extraction, Quickblade Of Trembling Hands</th>\n",
       "                        <td id=\"T_7ee2a026_535c_11ea_9021_6476ba91ff0crow2_col0\" class=\"data row2 col0\" >9</td>\n",
       "                        <td id=\"T_7ee2a026_535c_11ea_9021_6476ba91ff0crow2_col1\" class=\"data row2 col1\" >$3.53</td>\n",
       "                        <td id=\"T_7ee2a026_535c_11ea_9021_6476ba91ff0crow2_col2\" class=\"data row2 col2\" >$31.77</td>\n",
       "            </tr>\n",
       "            <tr>\n",
       "                        <th id=\"T_7ee2a026_535c_11ea_9021_6476ba91ff0clevel0_row3\" class=\"row_heading level0 row3\" >82</th>\n",
       "                        <th id=\"T_7ee2a026_535c_11ea_9021_6476ba91ff0clevel1_row3\" class=\"row_heading level1 row3\" >Nirvana</th>\n",
       "                        <td id=\"T_7ee2a026_535c_11ea_9021_6476ba91ff0crow3_col0\" class=\"data row3 col0\" >9</td>\n",
       "                        <td id=\"T_7ee2a026_535c_11ea_9021_6476ba91ff0crow3_col1\" class=\"data row3 col1\" >$4.90</td>\n",
       "                        <td id=\"T_7ee2a026_535c_11ea_9021_6476ba91ff0crow3_col2\" class=\"data row3 col2\" >$44.10</td>\n",
       "            </tr>\n",
       "            <tr>\n",
       "                        <th id=\"T_7ee2a026_535c_11ea_9021_6476ba91ff0clevel0_row4\" class=\"row_heading level0 row4\" >19</th>\n",
       "                        <th id=\"T_7ee2a026_535c_11ea_9021_6476ba91ff0clevel1_row4\" class=\"row_heading level1 row4\" >Pursuit, Cudgel of Necromancy</th>\n",
       "                        <td id=\"T_7ee2a026_535c_11ea_9021_6476ba91ff0crow4_col0\" class=\"data row4 col0\" >8</td>\n",
       "                        <td id=\"T_7ee2a026_535c_11ea_9021_6476ba91ff0crow4_col1\" class=\"data row4 col1\" >$1.02</td>\n",
       "                        <td id=\"T_7ee2a026_535c_11ea_9021_6476ba91ff0crow4_col2\" class=\"data row4 col2\" >$8.16</td>\n",
       "            </tr>\n",
       "    </tbody></table>"
      ],
      "text/plain": [
       "<pandas.io.formats.style.Styler at 0x12362a3c8>"
      ]
     },
     "execution_count": 11,
     "metadata": {},
     "output_type": "execute_result"
    }
   ],
   "source": [
    "# Retrieve the Item ID, Item Name, and Item Price columns\n",
    "items = purchase_data_df[[\"Item ID\", \"Item Name\", \"Price\"]]\n",
    "\n",
    "# Group by Item ID and Item Name\n",
    "item_SN = items.groupby([\"Item ID\",\"Item Name\"])\n",
    "\n",
    "# Count the number of times an item has been purchased \n",
    "purchase_count_item = item_SN[\"Price\"].count()\n",
    "\n",
    "# the purchase value per item \n",
    "purchase_value = (item_SN[\"Price\"].sum()) \n",
    "\n",
    "# individual item price\n",
    "item_price = purchase_value/purchase_count_item\n",
    "\n",
    "# Create data frame with obtained values\n",
    "most_popular_items = pd.DataFrame({\"Purchase Count\": purchase_count_item, \n",
    "                                   \"Item Price\": item_price,\n",
    "                                   \"Total Purchase Value\":purchase_value})\n",
    "\n",
    "# Sort the purchase count column in descending order\n",
    "popular_items = most_popular_items.sort_values([\"Purchase Count\"], ascending=False).head()\n",
    "\n",
    "# Formatting data\n",
    "popular_items.style.format({\"Item Price\":\"${:,.2f}\",\n",
    "                                \"Total Purchase Value\":\"${:,.2f}\"})"
   ]
  },
  {
   "cell_type": "markdown",
   "metadata": {},
   "source": [
    "## Most Profitable Items"
   ]
  },
  {
   "cell_type": "markdown",
   "metadata": {},
   "source": [
    "* Sort the above table by total purchase value in descending order\n",
    "\n",
    "\n",
    "* Optional: give the displayed data cleaner formatting\n",
    "\n",
    "\n",
    "* Display a preview of the data frame\n",
    "\n"
   ]
  },
  {
   "cell_type": "code",
   "execution_count": 12,
   "metadata": {
    "scrolled": true
   },
   "outputs": [
    {
     "data": {
      "text/html": [
       "<style  type=\"text/css\" >\n",
       "</style><table id=\"T_7ee6b3be_535c_11ea_9c01_6476ba91ff0c\" ><thead>    <tr>        <th class=\"blank\" ></th>        <th class=\"blank level0\" ></th>        <th class=\"col_heading level0 col0\" >Purchase Count</th>        <th class=\"col_heading level0 col1\" >Item Price</th>        <th class=\"col_heading level0 col2\" >Total Purchase Value</th>    </tr>    <tr>        <th class=\"index_name level0\" >Item ID</th>        <th class=\"index_name level1\" >Item Name</th>        <th class=\"blank\" ></th>        <th class=\"blank\" ></th>        <th class=\"blank\" ></th>    </tr></thead><tbody>\n",
       "                <tr>\n",
       "                        <th id=\"T_7ee6b3be_535c_11ea_9c01_6476ba91ff0clevel0_row0\" class=\"row_heading level0 row0\" >178</th>\n",
       "                        <th id=\"T_7ee6b3be_535c_11ea_9c01_6476ba91ff0clevel1_row0\" class=\"row_heading level1 row0\" >Oathbreaker, Last Hope of the Breaking Storm</th>\n",
       "                        <td id=\"T_7ee6b3be_535c_11ea_9c01_6476ba91ff0crow0_col0\" class=\"data row0 col0\" >12</td>\n",
       "                        <td id=\"T_7ee6b3be_535c_11ea_9c01_6476ba91ff0crow0_col1\" class=\"data row0 col1\" >$4.23</td>\n",
       "                        <td id=\"T_7ee6b3be_535c_11ea_9c01_6476ba91ff0crow0_col2\" class=\"data row0 col2\" >$50.76</td>\n",
       "            </tr>\n",
       "            <tr>\n",
       "                        <th id=\"T_7ee6b3be_535c_11ea_9c01_6476ba91ff0clevel0_row1\" class=\"row_heading level0 row1\" >82</th>\n",
       "                        <th id=\"T_7ee6b3be_535c_11ea_9c01_6476ba91ff0clevel1_row1\" class=\"row_heading level1 row1\" >Nirvana</th>\n",
       "                        <td id=\"T_7ee6b3be_535c_11ea_9c01_6476ba91ff0crow1_col0\" class=\"data row1 col0\" >9</td>\n",
       "                        <td id=\"T_7ee6b3be_535c_11ea_9c01_6476ba91ff0crow1_col1\" class=\"data row1 col1\" >$4.90</td>\n",
       "                        <td id=\"T_7ee6b3be_535c_11ea_9c01_6476ba91ff0crow1_col2\" class=\"data row1 col2\" >$44.10</td>\n",
       "            </tr>\n",
       "            <tr>\n",
       "                        <th id=\"T_7ee6b3be_535c_11ea_9c01_6476ba91ff0clevel0_row2\" class=\"row_heading level0 row2\" >145</th>\n",
       "                        <th id=\"T_7ee6b3be_535c_11ea_9c01_6476ba91ff0clevel1_row2\" class=\"row_heading level1 row2\" >Fiery Glass Crusader</th>\n",
       "                        <td id=\"T_7ee6b3be_535c_11ea_9c01_6476ba91ff0crow2_col0\" class=\"data row2 col0\" >9</td>\n",
       "                        <td id=\"T_7ee6b3be_535c_11ea_9c01_6476ba91ff0crow2_col1\" class=\"data row2 col1\" >$4.58</td>\n",
       "                        <td id=\"T_7ee6b3be_535c_11ea_9c01_6476ba91ff0crow2_col2\" class=\"data row2 col2\" >$41.22</td>\n",
       "            </tr>\n",
       "            <tr>\n",
       "                        <th id=\"T_7ee6b3be_535c_11ea_9c01_6476ba91ff0clevel0_row3\" class=\"row_heading level0 row3\" >92</th>\n",
       "                        <th id=\"T_7ee6b3be_535c_11ea_9c01_6476ba91ff0clevel1_row3\" class=\"row_heading level1 row3\" >Final Critic</th>\n",
       "                        <td id=\"T_7ee6b3be_535c_11ea_9c01_6476ba91ff0crow3_col0\" class=\"data row3 col0\" >8</td>\n",
       "                        <td id=\"T_7ee6b3be_535c_11ea_9c01_6476ba91ff0crow3_col1\" class=\"data row3 col1\" >$4.88</td>\n",
       "                        <td id=\"T_7ee6b3be_535c_11ea_9c01_6476ba91ff0crow3_col2\" class=\"data row3 col2\" >$39.04</td>\n",
       "            </tr>\n",
       "            <tr>\n",
       "                        <th id=\"T_7ee6b3be_535c_11ea_9c01_6476ba91ff0clevel0_row4\" class=\"row_heading level0 row4\" >103</th>\n",
       "                        <th id=\"T_7ee6b3be_535c_11ea_9c01_6476ba91ff0clevel1_row4\" class=\"row_heading level1 row4\" >Singed Scalpel</th>\n",
       "                        <td id=\"T_7ee6b3be_535c_11ea_9c01_6476ba91ff0crow4_col0\" class=\"data row4 col0\" >8</td>\n",
       "                        <td id=\"T_7ee6b3be_535c_11ea_9c01_6476ba91ff0crow4_col1\" class=\"data row4 col1\" >$4.35</td>\n",
       "                        <td id=\"T_7ee6b3be_535c_11ea_9c01_6476ba91ff0crow4_col2\" class=\"data row4 col2\" >$34.80</td>\n",
       "            </tr>\n",
       "    </tbody></table>"
      ],
      "text/plain": [
       "<pandas.io.formats.style.Styler at 0x122364128>"
      ]
     },
     "execution_count": 12,
     "metadata": {},
     "output_type": "execute_result"
    }
   ],
   "source": [
    "#total purchase value in descending order\n",
    "popular_items = most_popular_items.sort_values([\"Total Purchase Value\"],\n",
    "                                                   ascending=False).head()\n",
    "# Formatting\n",
    "popular_items.style.format({\"Item Price\":\"${:,.2f}\",\n",
    "                                \"Total Purchase Value\":\"${:,.2f}\"})"
   ]
  }
 ],
 "metadata": {
  "anaconda-cloud": {},
  "kernel_info": {
   "name": "python3"
  },
  "kernelspec": {
   "display_name": "Python 3",
   "language": "python",
   "name": "python3"
  },
  "language_info": {
   "codemirror_mode": {
    "name": "ipython",
    "version": 3
   },
   "file_extension": ".py",
   "mimetype": "text/x-python",
   "name": "python",
   "nbconvert_exporter": "python",
   "pygments_lexer": "ipython3",
   "version": "3.6.10"
  },
  "latex_envs": {
   "LaTeX_envs_menu_present": true,
   "autoclose": false,
   "autocomplete": true,
   "bibliofile": "biblio.bib",
   "cite_by": "apalike",
   "current_citInitial": 1,
   "eqLabelWithNumbers": true,
   "eqNumInitial": 1,
   "hotkeys": {
    "equation": "Ctrl-E",
    "itemize": "Ctrl-I"
   },
   "labels_anchors": false,
   "latex_user_defs": false,
   "report_style_numbering": false,
   "user_envs_cfg": false
  },
  "nteract": {
   "version": "0.2.0"
  }
 },
 "nbformat": 4,
 "nbformat_minor": 2
}
